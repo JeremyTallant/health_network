{
 "cells": [
  {
   "cell_type": "markdown",
   "metadata": {
    "dc": {
     "key": "4"
    },
    "deletable": false,
    "editable": false,
    "run_control": {
     "frozen": true
    },
    "tags": [
     "context"
    ]
   },
   "source": [
    "## 1. Ebola, hurricanes, and forest fires, oh my\n",
    "<p>Have you ever wondered who keeps an eye on your favorite restaurants to make sure your food is safe? Or removes old tires filled with standing water that could attract mosquitos? In the US, these tasks are among the services provided by over 2,500 local health departments serving all communities across the country. In addition to basic services that keep us safe on a daily basis, local health departments also prepare for and respond to large-scale national, regional, and local emergencies.</p>\n",
    "<p>Health department size and service provision vary widely depending on the needs and size of its constituent population, which can range from a few hundred to a few million people. Every few years, the National Association of County and City Health Officials (NACCHO) surveys health departments about their resources and the services they provide to constituents. </p>\n",
    "<p>In 2016, the survey asked each health department to identify five health departments they connected to the most. Connections among health departments facilitate information sharing and coordination of services and are especially important during public health emergencies. The Ebola outbreak in 2014, Hurricane Harvey in 2017, and the California wildfires in 2018 are examples of national, regional, and state emergencies requiring coordination of public health services.</p>\n",
    "<p>To understand the partnerships underlying the public health response to emergencies, let's examine the network of local health departments and identify key health departments and gaps in the network at the national, regional, and state levels.  </p>\n",
    "<p><img src=\"https://assets.datacamp.com/production/project_438/img/doh-pic.jpg\" alt=\"City of St. Louis Department of Health\"></p>"
   ]
  },
  {
   "cell_type": "code",
   "execution_count": 0,
   "metadata": {
    "dc": {
     "key": "4"
    },
    "tags": [
     "sample_code"
    ]
   },
   "outputs": [],
   "source": [
    "# load the libraries\n",
    "library(readr)\n",
    "library(dplyr)\n",
    "library(igraph)\n",
    "library(ggraph)\n",
    "\n",
    "# Import the edgelist from the naccho2016clean.csv file\n",
    "health.dep.edges <- ....(file = \"....\")\n",
    "\n",
    "# Import the attributes from the naccho2016att.csv file\n",
    "health.dep.nodes <- ....(file = \"....\")\n",
    "\n",
    "# Merge the edgelist and attributes into a network object\n",
    "health.dep.net <- ....(d = ...., \n",
    "                       vertices = ...., \n",
    "                       directed = FALSE)\n",
    "\n",
    "# Show the network object\n",
    "# .... YOUR CODE FOR TASK 1 ...."
   ]
  },
  {
   "cell_type": "markdown",
   "metadata": {
    "dc": {
     "key": "11"
    },
    "deletable": false,
    "editable": false,
    "run_control": {
     "frozen": true
    },
    "tags": [
     "context"
    ]
   },
   "source": [
    "## 2. Cleaning up the network object\n",
    "<p>With more than 2,500 health departments in the US, the national network of partnerships may be large and complex. The first step in any analysis is to clean up the data. The health department network shows partnerships, which would logically be represented by a single link between any two health departments that partner. Local health departments do not typically partner with themselves, so there would be no loops in the network.</p>"
   ]
  },
  {
   "cell_type": "code",
   "execution_count": 0,
   "metadata": {
    "dc": {
     "key": "11"
    },
    "tags": [
     "sample_code"
    ]
   },
   "outputs": [],
   "source": [
    "# Check for loops and multiples\n",
    "....(....)\n",
    "\n",
    "# Remove loops and multiples\n",
    "health.dep.net <- ....(health.dep.net, \n",
    "                       remove.multiple = ...., \n",
    "                       remove.loops = ....)\n",
    "\n",
    "# Check for loops and multiples again\n",
    "....(....)"
   ]
  },
  {
   "cell_type": "markdown",
   "metadata": {
    "dc": {
     "key": "18"
    },
    "deletable": false,
    "editable": false,
    "run_control": {
     "frozen": true
    },
    "tags": [
     "context"
    ]
   },
   "source": [
    "## 3. Getting to know the network\n",
    "<p>After cleaning up the network object, the next step is some exploratory analysis to get to know the network. </p>"
   ]
  },
  {
   "cell_type": "code",
   "execution_count": 0,
   "metadata": {
    "dc": {
     "key": "18"
    },
    "tags": [
     "sample_code"
    ]
   },
   "outputs": [],
   "source": [
    "# Count the number of vertices in the network\n",
    "( num.health.dep <- ....(graph = ....) )\n",
    "\n",
    "# Count the number of edges in the network\n",
    "( num.connections <- ....(graph = ....) )\n",
    "\n",
    "# Compute network density \n",
    "( net.density <- ....(graph = ...., loops = FALSE) )"
   ]
  },
  {
   "cell_type": "markdown",
   "metadata": {
    "dc": {
     "key": "25"
    },
    "deletable": false,
    "editable": false,
    "run_control": {
     "frozen": true
    },
    "tags": [
     "context"
    ]
   },
   "source": [
    "## 4. Connections facilitating coordination nationwide\n",
    "<p>In 2014-2016 there was an outbreak of Ebola in West Africa. In late 2014, a case of Ebola was identified in Texas and health departments nationwide worked to prepare for the potential of a widespread outbreak. While this potential was never realized (there were just 4 cases eventually diagnosed in the US), it isn't difficult to imagine a large-scale infectious disease outbreak that requires coordination across the country to protect the uninfected and treat the infected. </p>\n",
    "<p>Central network members can facilitate or control the spread of information and other resources and are often considered key or important network members. There are several different types of centrality. Two of the more commonly used are degree centrality and betweenness centrality. Degree centrality is a count of the number of connections a node has. Betweenness centrality quantifies the extent to which a node lies in the shortest path between any two other nodes in the network, often playing a bridging role.</p>\n",
    "<p>The nodes with the highest degree and betweenness centrality may be key to spreading information and coordinating efforts nationwide. Nodes that have both high degree and high betweenness may be especially important.</p>"
   ]
  },
  {
   "cell_type": "code",
   "execution_count": 0,
   "metadata": {
    "dc": {
     "key": "25"
    },
    "tags": [
     "sample_code"
    ]
   },
   "outputs": [],
   "source": [
    "# Identify highly connected nodes using degree\n",
    "....$health.dep.degree <- ....(health.dep.net)\n",
    "\n",
    "# List the health departments with the highest degree\n",
    "arrange(...., -health.dep.degree)\n",
    "\n",
    "# Identify bridges nodes using betweenness\n",
    "health.dep.nodes$.... <- ....(health.dep.net)\n",
    "\n",
    "# List the health departments with the highest betweenness\n",
    "arrange(...., -....)"
   ]
  },
  {
   "cell_type": "markdown",
   "metadata": {
    "dc": {
     "key": "32"
    },
    "deletable": false,
    "editable": false,
    "run_control": {
     "frozen": true
    },
    "tags": [
     "context"
    ]
   },
   "source": [
    "## 5. Connections for regional coordination\n",
    "<p>Some disasters are more regional than national and would not require all health departments across the country to be involved. For example, in 2017, Hurricane Harvey poured between 10 and 50 inches of rain in a short period of time across parts of southeastern Texas and southwestern Louisiana. This resulted in widespread flooding across the region and tested the emergency preparedness of health departments and others. Let's use network methods to identify key players and gaps in the network across Texas and Louisiana that might suggest new connections to prepare for future events.</p>"
   ]
  },
  {
   "cell_type": "code",
   "execution_count": 0,
   "metadata": {
    "dc": {
     "key": "32"
    },
    "tags": [
     "sample_code"
    ]
   },
   "outputs": [],
   "source": [
    "# Subset the network so it includes TX, LA \n",
    "region.net <- ....(graph = ...., \n",
    "                   vids = which(V(....)$state %in% c('LA', 'TX')))\n",
    "\n",
    "# Find the number of vertices (i.e., network size) using vcount()\n",
    "# .... YOUR CODE FOR TASK 5 ....\n",
    "\n",
    "# Use edge_density() to find the density of region.net\n",
    "# .... YOUR CODE FOR TASK 5 ....\n",
    "\n",
    "# Plot the network with theme_graph\n",
    "lhd.net.theme <- ggraph(graph = ...., .... = \"with_kk\") +\n",
    "  geom_edge_link() +\n",
    "  geom_node_point(aes(.... = ....)) +\n",
    "  ....()\n",
    "lhd.net.theme"
   ]
  },
  {
   "cell_type": "markdown",
   "metadata": {
    "dc": {
     "key": "39"
    },
    "deletable": false,
    "editable": false,
    "run_control": {
     "frozen": true
    },
    "tags": [
     "context"
    ]
   },
   "source": [
    "## 6. Which health departments are central in Texas and Louisiana?\n",
    "<p>While collaboration between the states will be challenging with no existing connections, the health departments in each state are well connected to each other. We can use degree centrality and betweenness centrality to find the key health departments in each state should another disaster occur. </p>"
   ]
  },
  {
   "cell_type": "code",
   "execution_count": 0,
   "metadata": {
    "dc": {
     "key": "39"
    },
    "tags": [
     "sample_code"
    ]
   },
   "outputs": [],
   "source": [
    "# Identify important nodes in each state using degree\n",
    "region.net$degree <- ....(....)\n",
    "\n",
    "# Get the top degree health depts for each state\n",
    "( top.degree.LA <- head(sort(....$degree[V(....)$state == \"LA\"], \n",
    "                             decreasing = ....)) )\n",
    "\n",
    "( top.degree.TX <- head(sort(....$degree[V(....)$state == \"TX\"], \n",
    "                             decreasing = ....)) )\n",
    "\n",
    "\n",
    "#Iidentify important nodes in each state using betweenness\n",
    "region.net$between <- ....(....)\n",
    "\n",
    "# Get the top betweenness health depts for each state\n",
    "( top.bet.LA <- head(sort(....$between[V(....)$state == \"LA\"], \n",
    "                          .... = TRUE)) )\n",
    "( top.bet.TX <- head(sort(....$between[V(....)$state == \"TX\"], \n",
    "                          .... = TRUE)) )"
   ]
  },
  {
   "cell_type": "markdown",
   "metadata": {
    "dc": {
     "key": "46"
    },
    "deletable": false,
    "editable": false,
    "run_control": {
     "frozen": true
    },
    "tags": [
     "context"
    ]
   },
   "source": [
    "## 7. Visualizing the central health departments\n",
    "<p>We just found several central health departments that were either highly connected (degree centrality) or were forming bridges between other health departments (betweenness centrality). Visualize these central health departments to get a better idea of their importance and place in the network.</p>"
   ]
  },
  {
   "cell_type": "code",
   "execution_count": 0,
   "metadata": {
    "dc": {
     "key": "46"
    },
    "tags": [
     "sample_code"
    ]
   },
   "outputs": [],
   "source": [
    "# Add degree to the node attributes\n",
    "V(....)$degree <- degree(....)\n",
    "\n",
    "# plot with node size by degree, color by state, theme graph, Kamada Kawai layout\n",
    "region.plot.degree <- ggraph(graph = region.net, layout = \"with_kk\") +\n",
    "  geom_edge_link() +\n",
    "  geom_node_point(aes(colour = state, size = ....)) +\n",
    "  geom_node_text(aes(label = name, size = 1), nudge_y = .25) +\n",
    "  theme_graph()\n",
    "region.plot.degree\n",
    "\n",
    "# Add betweenness to the node attributes\n",
    "V(....)$between <- ....(region.net)\n",
    "\n",
    "# Plot with node size by betweenness, color by state, theme graph, Kamada Kawai layout\n",
    "region.plot.between <- ggraph(graph = region.net, layout = \"with_kk\") +\n",
    "  geom_edge_link() +\n",
    "  geom_node_point(aes(colour = ...., size = ....)) +\n",
    "  geom_node_text(aes(label = ...., size = 1), nudge_y = .25) +\n",
    "  theme_graph()\n",
    "region.plot.between"
   ]
  },
  {
   "cell_type": "markdown",
   "metadata": {
    "dc": {
     "key": "53"
    },
    "deletable": false,
    "editable": false,
    "run_control": {
     "frozen": true
    },
    "tags": [
     "context"
    ]
   },
   "source": [
    "## 8. What about state-level networks during emergencies?\n",
    "<p>There are national and regional emergencies like Ebola and Hurricane Harvey. There are also state and local emergencies like the wildfires in California in 2018. We can understand the network and its key players using the same approaches but with a single state network.</p>"
   ]
  },
  {
   "cell_type": "code",
   "execution_count": 0,
   "metadata": {
    "dc": {
     "key": "53"
    },
    "tags": [
     "sample_code"
    ]
   },
   "outputs": [],
   "source": [
    "# Subset the network so it includes only CA\n",
    "cali.net <- ....(graph = ...., \n",
    "                 vids = which(V(....)$.... %in% \"CA\"))\n",
    "\n",
    "# Find the number of vertices (i.e., network size) using vcount()\n",
    "# .... YOUR CODE FOR TASK 8 ....\n",
    "\n",
    "# Use edge_density() to find the density \n",
    "# .... YOUR CODE FOR TASK 8 ....\n",
    "\n",
    "# Find and sort degree centrality for each health department\n",
    "( top.cali.degree <- head(sort(degree(....), decreasing = TRUE)) )\n",
    "\n",
    "# Find and sort betweenness centrality for each health department\n",
    "( top.cali.between <- head(sort(....(....), decreasing = TRUE)) )"
   ]
  },
  {
   "cell_type": "markdown",
   "metadata": {
    "dc": {
     "key": "60"
    },
    "deletable": false,
    "editable": false,
    "run_control": {
     "frozen": true
    },
    "tags": [
     "context"
    ]
   },
   "source": [
    "## 9. Are central health departments urban?\n",
    "<p>In addition to the <code>state</code> attribute, the network object includes several other health department characteristics that may be useful in understanding what makes two health departments partner with each other. One of the characteristics is <code>rurality</code>, which classifies each health department as rural or urban. Two other characteristics are <code>fte</code>, or full-time employees, and <code>leader.tenure</code>, which measures the years the leader has been at the health department.</p>\n",
    "<p>Urban health departments are likely to be in more populated areas and to serve more people. It would make sense that urban health departments are more central to the network since they have more resources to use in forming and maintaining partnerships. However, rural health departments might have more incentive to partner to fill gaps in service provision. Having more full-time employees and stable leadership could also influence the ability of health departments to partner. </p>"
   ]
  },
  {
   "cell_type": "code",
   "execution_count": 0,
   "metadata": {
    "dc": {
     "key": "60"
    },
    "tags": [
     "sample_code"
    ]
   },
   "outputs": [],
   "source": [
    "# Fill in the `colour` parameter with the rurality attribute \n",
    "# and the `size` parameter with degree to visualize rurality in cali.net\n",
    "cali.net.rural.deg <- ggraph(graph = ...., layout = \"with_kk\") +\n",
    "  geom_edge_link() +\n",
    "  geom_node_point(aes(colour = ...., size = ....(cali.net))) +\n",
    "  geom_node_text(aes(label = name, size = 3), nudge_y = .2) +\n",
    "  theme_graph()\n",
    "cali.net.rural.deg\n",
    "\n",
    "# Fill in the `colour` parameter with the population attribute \n",
    "# and the `size` parameter with degree to visualize population in cali.net\n",
    "cali.net.pop.deg <- ggraph(graph = ...., layout = \"with_kk\") +\n",
    "  geom_edge_link() +\n",
    "  geom_node_point(aes(colour = ...., size = ....(cali.net))) +\n",
    "  geom_node_text(aes(label = name, size = 3), nudge_y = .2) +\n",
    "  theme_graph()\n",
    "cali.net.pop.deg\n",
    "\n",
    "# Fill in the `colour` parameter with the fte attribute and \n",
    "# the `size` parameter with degree to visualize fte in cali.net\n",
    "cali.net.fte.deg <- ggraph(graph = ...., layout = \"with_kk\") +\n",
    "  geom_edge_link() +\n",
    "  geom_node_point(aes(colour = ...., size = ....(cali.net))) +\n",
    "  geom_node_text(aes(label = name, size = 3), nudge_y = .2) +\n",
    "  theme_graph()\n",
    "cali.net.fte.deg\n"
   ]
  },
  {
   "cell_type": "markdown",
   "metadata": {
    "dc": {
     "key": "67"
    },
    "deletable": false,
    "editable": false,
    "run_control": {
     "frozen": true
    },
    "tags": [
     "context"
    ]
   },
   "source": [
    "## 10. Which health departments have high betweenness?\n",
    "<p>The health departments with the most connections were a mix of urban and rural for the <code>region.net</code> and <code>cali.net</code>. Let's examine urban health departments to determine whether they are more likely to have high betweenness and therefore be important to statewide collaboration.</p>"
   ]
  },
  {
   "cell_type": "code",
   "execution_count": 0,
   "metadata": {
    "dc": {
     "key": "67"
    },
    "tags": [
     "sample_code"
    ]
   },
   "outputs": [],
   "source": [
    "# Compute betweenness for the cali network\n",
    "V(cali.net)$between <- ....(cali.net)\n",
    "\n",
    "# Plot cali.net with rurality color nodes sized by betweenness\n",
    "cali.net.rural.bet <- ggraph(graph = ...., layout = \"with_kk\") +\n",
    "  geom_edge_link() +\n",
    "  geom_node_point(aes(colour = ...., size = ....)) +\n",
    "  geom_node_text(aes(label = name, size = 3), nudge_y = .2) +\n",
    "  theme_graph()\n",
    "cali.net.rural.bet\n",
    "\n",
    "# Plot cali.net with population color nodes sized by betweenness\n",
    "cali.net.pop.bet <- ggraph(graph = ...., layout = \"with_kk\") +\n",
    "  geom_edge_link() +\n",
    "  geom_node_point(aes(colour = ...., size = ....)) +\n",
    "  geom_node_text(aes(label = name, size = 3), nudge_y = .2) +\n",
    "  theme_graph()\n",
    "cali.net.pop.bet\n",
    "\n",
    "# Plot cali.net with fte color nodes sized by betweenness\n",
    "cali.net.fte.bet <- ggraph(graph = ...., layout = \"with_kk\") +\n",
    "  geom_edge_link() +\n",
    "  geom_node_point(aes(colour = ...., size = ....)) +\n",
    "  geom_node_text(aes(label = name, size = 3), nudge_y = .2) +\n",
    "  theme_graph()\n",
    "cali.net.fte.bet"
   ]
  }
 ],
 "metadata": {
  "kernelspec": {
   "display_name": "R",
   "language": "R",
   "name": "ir"
  },
  "language_info": {
   "codemirror_mode": "r",
   "file_extension": ".r",
   "mimetype": "text/x-r-source",
   "name": "R",
   "pygments_lexer": "r",
   "version": "4.2.3"
  }
 },
 "nbformat": 4,
 "nbformat_minor": 2
}
